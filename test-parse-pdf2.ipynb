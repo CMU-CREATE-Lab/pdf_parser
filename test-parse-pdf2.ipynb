{
 "cells": [
  {
   "cell_type": "code",
   "execution_count": null,
   "metadata": {},
   "outputs": [],
   "source": [
    "import importlib, glob, json\n",
    "import sys\n",
    "\n",
    "# reload changes\n",
    "'pdfparser' in sys.modules and importlib.reload(sys.modules['pdfparser'])\n",
    "from pdfparser import *\n"
   ]
  },
  {
   "cell_type": "code",
   "execution_count": null,
   "metadata": {
    "tags": [
     "outputPrepend"
    ]
   },
   "outputs": [],
   "source": [
    "for src in glob.glob('tests/*.pdf'):\n",
    "    print(f'\\n\\n********************\\n{src}')\n",
    "    docket = parse_pa_mdj_docket(PdfParser(pdf_content = open(src, 'rb').read()))\n",
    "    print(json.dumps(docket, indent=2))"
   ]
  }
 ],
 "metadata": {
  "kernelspec": {
   "display_name": "Python 3",
   "language": "python",
   "name": "python3"
  },
  "language_info": {
   "codemirror_mode": {
    "name": "ipython",
    "version": 3
   },
   "file_extension": ".py",
   "mimetype": "text/x-python",
   "name": "python",
   "nbconvert_exporter": "python",
   "pygments_lexer": "ipython3",
   "version": "3.7.1"
  }
 },
 "nbformat": 4,
 "nbformat_minor": 1
}
